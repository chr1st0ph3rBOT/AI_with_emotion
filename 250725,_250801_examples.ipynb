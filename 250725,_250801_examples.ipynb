{
  "nbformat": 4,
  "nbformat_minor": 0,
  "metadata": {
    "colab": {
      "provenance": [],
      "include_colab_link": true
    },
    "kernelspec": {
      "name": "python3",
      "display_name": "Python 3"
    },
    "language_info": {
      "name": "python"
    }
  },
  "cells": [
    {
      "cell_type": "markdown",
      "metadata": {
        "id": "view-in-github",
        "colab_type": "text"
      },
      "source": [
        "<a href=\"https://colab.research.google.com/github/chr1st0ph3rBOT/AI_with_emotion/blob/main/250725%2C_250801_examples.ipynb\" target=\"_parent\"><img src=\"https://colab.research.google.com/assets/colab-badge.svg\" alt=\"Open In Colab\"/></a>"
      ]
    },
    {
      "cell_type": "code",
      "source": [
        "# 간단한 재귀함수 예시\n",
        "def factorial(n):\n",
        "\t# 종료 조건\n",
        "\tif n == 1:\n",
        "\t\treturn 1\n",
        "\t# 재귀 호출\n",
        "\treturn n * factorial(n-1)\n",
        "\n",
        "# 실행 결과: 120\n",
        "print(factorial(5))"
      ],
      "metadata": {
        "id": "_9Y6JS8ZbQpL"
      },
      "execution_count": null,
      "outputs": []
    },
    {
      "cell_type": "code",
      "source": [
        "# arr는 숫자들로 이루어진 list라고 하자. 버블 정렬을 이용해 오름차순으로 정렬하는 함수 bubble_sort를 구현하시오.\n",
        "def bubble_sort(arr):\n",
        "    n = len(arr)\n",
        "    for i in range(n-1):\n",
        "        for j in range(0, n - i - 1):\n",
        "            if arr[j] > arr[j+1]:\n",
        "                arr[j], arr[j+1] = arr[j+1], arr[j]\n",
        "\n",
        "    return arr\n",
        "\n",
        "\n",
        "# 실행 결과: [2, 16, 24, 25, 26, 31, 32]\n",
        "my_list = [24, 26, 2, 16, 32, 31, 25]\n",
        "sorted_list = bubble_sort(my_list)\n",
        "print(\"정렬된 리스트:\", sorted_list)"
      ],
      "metadata": {
        "id": "PVYEOzhfbA2O",
        "colab": {
          "base_uri": "https://localhost:8080/"
        },
        "outputId": "c757ddfd-6167-402b-8310-1d48d97cf0ea"
      },
      "execution_count": null,
      "outputs": [
        {
          "output_type": "stream",
          "name": "stdout",
          "text": [
            "정렬된 리스트: [2, 16, 24, 25, 26, 31, 32]\n"
          ]
        }
      ]
    },
    {
      "cell_type": "code",
      "source": [
        "# arr는 숫자들로 이루어진 list라고 하자. 퀵 소트를 이용해 오름차순으로 정렬하는 함수 quick_sort를 구현하시오.\n",
        "def quick_sort(arr):\n",
        "    if len(arr) == 0 or len(arr) == 1:\n",
        "        return arr\n",
        "\n",
        "    pivot = arr[len(arr) // 2]\n",
        "\n",
        "    left_arr, eq_arr, right_arr = [], [], []\n",
        "\n",
        "    for num in arr:\n",
        "        if num < pivot:\n",
        "            left_arr.append(num)\n",
        "        elif num == pivot:\n",
        "            eq_arr.append(num)\n",
        "        else:\n",
        "            right_arr.append(num)\n",
        "\n",
        "    return quick_sort(left_arr) + eq_arr + quick_sort(right_arr)\n",
        "\n",
        "\n",
        "# 실행 결과: [2, 16, 24, 25, 26, 31, 32]\n",
        "my_list = [24, 26, 2, 16, 32, 31, 25]\n",
        "sorted_list = quick_sort(my_list)\n",
        "print(\"정렬된 리스트:\", sorted_list)"
      ],
      "metadata": {
        "id": "CFZ7J3ARaxdR",
        "colab": {
          "base_uri": "https://localhost:8080/"
        },
        "outputId": "09272631-edb1-47c2-c3cc-3fdf239e7b2f"
      },
      "execution_count": null,
      "outputs": [
        {
          "output_type": "stream",
          "name": "stdout",
          "text": [
            "정렬된 리스트: [2, 16, 24, 25, 26, 31, 32]\n"
          ]
        }
      ]
    }
  ]
}